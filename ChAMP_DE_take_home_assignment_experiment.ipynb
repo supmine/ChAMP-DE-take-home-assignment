{
  "nbformat": 4,
  "nbformat_minor": 0,
  "metadata": {
    "colab": {
      "provenance": []
    },
    "kernelspec": {
      "name": "python3",
      "display_name": "Python 3"
    },
    "language_info": {
      "name": "python"
    }
  },
  "cells": [
    {
      "cell_type": "markdown",
      "source": [
        "# Take Home Assignment Clean and Transform data"
      ],
      "metadata": {
        "id": "xMydo17CPb_2"
      }
    },
    {
      "cell_type": "markdown",
      "source": [
        "Assumption (fyi: This solution is not the best time complexity. It can be optimize for speed up. This solution is focus on logic)\n",
        "1. ISO format YYYY-MM-DD in A.D year \n",
        "2. assume input is csv of 4 column\n",
        "3. assume there is no null column\n",
        "4. assume date input format is d/m/y\n",
        "5. assume correct phone number is length of 9 and 10\n",
        "6. if data cannot transform (invalid data) move it in to invalid date frame\n",
        "7. transform mask phone and email\n",
        "8. data in invalid csv may be change\n",
        "\n",
        "data rule : correct email, phone, date\n",
        "if data match all rule that row is correct row move to cleaned data if not move to invalid data\n",
        "we only transform and clean correct date don't care about incorrect data if there were transformed"
      ],
      "metadata": {
        "id": "sL1Xw1iXZwVr"
      }
    },
    {
      "cell_type": "markdown",
      "source": [
        "## Import Library"
      ],
      "metadata": {
        "id": "Lvx_XDtBPjw6"
      }
    },
    {
      "cell_type": "code",
      "source": [
        "import pandas as pd\n",
        "from datetime import date\n",
        "import numpy as np\n",
        "import re"
      ],
      "metadata": {
        "id": "EQnXXeRJTaZU"
      },
      "execution_count": 1,
      "outputs": []
    },
    {
      "cell_type": "markdown",
      "source": [
        "## Read CSV"
      ],
      "metadata": {
        "id": "eD-wdr3pPmqN"
      }
    },
    {
      "cell_type": "code",
      "execution_count": 2,
      "metadata": {
        "colab": {
          "base_uri": "https://localhost:8080/",
          "height": 489
        },
        "id": "hJx5WKGPS-AF",
        "outputId": "15e52dbc-a398-4b5c-d77b-4a55fefc0ee9"
      },
      "outputs": [
        {
          "output_type": "execute_result",
          "data": {
            "text/plain": [
              "          date              name                  email         phone\n",
              "0    1/19/2566    ชื่นใจ สวยสกุล  churn.jai.s@gmail.com  090-55508888\n",
              "1    4/20/2566  สมชาย เด็ดเดี่ยว   lnwza777@hotmail.com    0815678900\n",
              "2   21/22/2566   สมุย เด็ดเดี่ยว      samurai@gmail.com          1112\n",
              "3    2/30/2563     จอห์น มองอะไร       bkk888@gmail.com  099-668-5555\n",
              "4    1/19/2566    ชื่นใจ สวยสกุล  churn.jai.s@gmail.com  090-55508888\n",
              "5     4/5/2566  สมชาย เด็ดเดี่ยว   lnwza777@hotmail.com    0815678900\n",
              "6   21/12/2566   สมุย เด็ดเดี่ยว      samurai@gmail.com          1112\n",
              "7    2/10/2563     จอห์น มองอะไร       bkk888@gmail.com  099-668-5555\n",
              "8    1/19/2566    ชื่นใจ สวยสกุล    churn.jai.sasdfasdf       1111111\n",
              "9    4/20/2566  สมชาย เด็ดเดี่ยว   lnwza777@hotmail.com    0815678900\n",
              "10  21/22/2566   สมุย เด็ดเดี่ยว      samurai@gmail.com          1112\n",
              "11   2/30/2563     จอห์น มองอะไร       bkk888@gmail.com     009130450\n",
              "12   2/30/2563     จอห์น มองอะไร           b8@gmail.com     009130450\n",
              "13   1/12/2573     จอห์น มองอะไร   b8asdfasdf@gmail.com    0892308822"
            ],
            "text/html": [
              "\n",
              "  <div id=\"df-059c60a8-4b7c-4edd-b029-a4b52f81e8f8\">\n",
              "    <div class=\"colab-df-container\">\n",
              "      <div>\n",
              "<style scoped>\n",
              "    .dataframe tbody tr th:only-of-type {\n",
              "        vertical-align: middle;\n",
              "    }\n",
              "\n",
              "    .dataframe tbody tr th {\n",
              "        vertical-align: top;\n",
              "    }\n",
              "\n",
              "    .dataframe thead th {\n",
              "        text-align: right;\n",
              "    }\n",
              "</style>\n",
              "<table border=\"1\" class=\"dataframe\">\n",
              "  <thead>\n",
              "    <tr style=\"text-align: right;\">\n",
              "      <th></th>\n",
              "      <th>date</th>\n",
              "      <th>name</th>\n",
              "      <th>email</th>\n",
              "      <th>phone</th>\n",
              "    </tr>\n",
              "  </thead>\n",
              "  <tbody>\n",
              "    <tr>\n",
              "      <th>0</th>\n",
              "      <td>1/19/2566</td>\n",
              "      <td>ชื่นใจ สวยสกุล</td>\n",
              "      <td>churn.jai.s@gmail.com</td>\n",
              "      <td>090-55508888</td>\n",
              "    </tr>\n",
              "    <tr>\n",
              "      <th>1</th>\n",
              "      <td>4/20/2566</td>\n",
              "      <td>สมชาย เด็ดเดี่ยว</td>\n",
              "      <td>lnwza777@hotmail.com</td>\n",
              "      <td>0815678900</td>\n",
              "    </tr>\n",
              "    <tr>\n",
              "      <th>2</th>\n",
              "      <td>21/22/2566</td>\n",
              "      <td>สมุย เด็ดเดี่ยว</td>\n",
              "      <td>samurai@gmail.com</td>\n",
              "      <td>1112</td>\n",
              "    </tr>\n",
              "    <tr>\n",
              "      <th>3</th>\n",
              "      <td>2/30/2563</td>\n",
              "      <td>จอห์น มองอะไร</td>\n",
              "      <td>bkk888@gmail.com</td>\n",
              "      <td>099-668-5555</td>\n",
              "    </tr>\n",
              "    <tr>\n",
              "      <th>4</th>\n",
              "      <td>1/19/2566</td>\n",
              "      <td>ชื่นใจ สวยสกุล</td>\n",
              "      <td>churn.jai.s@gmail.com</td>\n",
              "      <td>090-55508888</td>\n",
              "    </tr>\n",
              "    <tr>\n",
              "      <th>5</th>\n",
              "      <td>4/5/2566</td>\n",
              "      <td>สมชาย เด็ดเดี่ยว</td>\n",
              "      <td>lnwza777@hotmail.com</td>\n",
              "      <td>0815678900</td>\n",
              "    </tr>\n",
              "    <tr>\n",
              "      <th>6</th>\n",
              "      <td>21/12/2566</td>\n",
              "      <td>สมุย เด็ดเดี่ยว</td>\n",
              "      <td>samurai@gmail.com</td>\n",
              "      <td>1112</td>\n",
              "    </tr>\n",
              "    <tr>\n",
              "      <th>7</th>\n",
              "      <td>2/10/2563</td>\n",
              "      <td>จอห์น มองอะไร</td>\n",
              "      <td>bkk888@gmail.com</td>\n",
              "      <td>099-668-5555</td>\n",
              "    </tr>\n",
              "    <tr>\n",
              "      <th>8</th>\n",
              "      <td>1/19/2566</td>\n",
              "      <td>ชื่นใจ สวยสกุล</td>\n",
              "      <td>churn.jai.sasdfasdf</td>\n",
              "      <td>1111111</td>\n",
              "    </tr>\n",
              "    <tr>\n",
              "      <th>9</th>\n",
              "      <td>4/20/2566</td>\n",
              "      <td>สมชาย เด็ดเดี่ยว</td>\n",
              "      <td>lnwza777@hotmail.com</td>\n",
              "      <td>0815678900</td>\n",
              "    </tr>\n",
              "    <tr>\n",
              "      <th>10</th>\n",
              "      <td>21/22/2566</td>\n",
              "      <td>สมุย เด็ดเดี่ยว</td>\n",
              "      <td>samurai@gmail.com</td>\n",
              "      <td>1112</td>\n",
              "    </tr>\n",
              "    <tr>\n",
              "      <th>11</th>\n",
              "      <td>2/30/2563</td>\n",
              "      <td>จอห์น มองอะไร</td>\n",
              "      <td>bkk888@gmail.com</td>\n",
              "      <td>009130450</td>\n",
              "    </tr>\n",
              "    <tr>\n",
              "      <th>12</th>\n",
              "      <td>2/30/2563</td>\n",
              "      <td>จอห์น มองอะไร</td>\n",
              "      <td>b8@gmail.com</td>\n",
              "      <td>009130450</td>\n",
              "    </tr>\n",
              "    <tr>\n",
              "      <th>13</th>\n",
              "      <td>1/12/2573</td>\n",
              "      <td>จอห์น มองอะไร</td>\n",
              "      <td>b8asdfasdf@gmail.com</td>\n",
              "      <td>0892308822</td>\n",
              "    </tr>\n",
              "  </tbody>\n",
              "</table>\n",
              "</div>\n",
              "      <button class=\"colab-df-convert\" onclick=\"convertToInteractive('df-059c60a8-4b7c-4edd-b029-a4b52f81e8f8')\"\n",
              "              title=\"Convert this dataframe to an interactive table.\"\n",
              "              style=\"display:none;\">\n",
              "        \n",
              "  <svg xmlns=\"http://www.w3.org/2000/svg\" height=\"24px\"viewBox=\"0 0 24 24\"\n",
              "       width=\"24px\">\n",
              "    <path d=\"M0 0h24v24H0V0z\" fill=\"none\"/>\n",
              "    <path d=\"M18.56 5.44l.94 2.06.94-2.06 2.06-.94-2.06-.94-.94-2.06-.94 2.06-2.06.94zm-11 1L8.5 8.5l.94-2.06 2.06-.94-2.06-.94L8.5 2.5l-.94 2.06-2.06.94zm10 10l.94 2.06.94-2.06 2.06-.94-2.06-.94-.94-2.06-.94 2.06-2.06.94z\"/><path d=\"M17.41 7.96l-1.37-1.37c-.4-.4-.92-.59-1.43-.59-.52 0-1.04.2-1.43.59L10.3 9.45l-7.72 7.72c-.78.78-.78 2.05 0 2.83L4 21.41c.39.39.9.59 1.41.59.51 0 1.02-.2 1.41-.59l7.78-7.78 2.81-2.81c.8-.78.8-2.07 0-2.86zM5.41 20L4 18.59l7.72-7.72 1.47 1.35L5.41 20z\"/>\n",
              "  </svg>\n",
              "      </button>\n",
              "      \n",
              "  <style>\n",
              "    .colab-df-container {\n",
              "      display:flex;\n",
              "      flex-wrap:wrap;\n",
              "      gap: 12px;\n",
              "    }\n",
              "\n",
              "    .colab-df-convert {\n",
              "      background-color: #E8F0FE;\n",
              "      border: none;\n",
              "      border-radius: 50%;\n",
              "      cursor: pointer;\n",
              "      display: none;\n",
              "      fill: #1967D2;\n",
              "      height: 32px;\n",
              "      padding: 0 0 0 0;\n",
              "      width: 32px;\n",
              "    }\n",
              "\n",
              "    .colab-df-convert:hover {\n",
              "      background-color: #E2EBFA;\n",
              "      box-shadow: 0px 1px 2px rgba(60, 64, 67, 0.3), 0px 1px 3px 1px rgba(60, 64, 67, 0.15);\n",
              "      fill: #174EA6;\n",
              "    }\n",
              "\n",
              "    [theme=dark] .colab-df-convert {\n",
              "      background-color: #3B4455;\n",
              "      fill: #D2E3FC;\n",
              "    }\n",
              "\n",
              "    [theme=dark] .colab-df-convert:hover {\n",
              "      background-color: #434B5C;\n",
              "      box-shadow: 0px 1px 3px 1px rgba(0, 0, 0, 0.15);\n",
              "      filter: drop-shadow(0px 1px 2px rgba(0, 0, 0, 0.3));\n",
              "      fill: #FFFFFF;\n",
              "    }\n",
              "  </style>\n",
              "\n",
              "      <script>\n",
              "        const buttonEl =\n",
              "          document.querySelector('#df-059c60a8-4b7c-4edd-b029-a4b52f81e8f8 button.colab-df-convert');\n",
              "        buttonEl.style.display =\n",
              "          google.colab.kernel.accessAllowed ? 'block' : 'none';\n",
              "\n",
              "        async function convertToInteractive(key) {\n",
              "          const element = document.querySelector('#df-059c60a8-4b7c-4edd-b029-a4b52f81e8f8');\n",
              "          const dataTable =\n",
              "            await google.colab.kernel.invokeFunction('convertToInteractive',\n",
              "                                                     [key], {});\n",
              "          if (!dataTable) return;\n",
              "\n",
              "          const docLinkHtml = 'Like what you see? Visit the ' +\n",
              "            '<a target=\"_blank\" href=https://colab.research.google.com/notebooks/data_table.ipynb>data table notebook</a>'\n",
              "            + ' to learn more about interactive tables.';\n",
              "          element.innerHTML = '';\n",
              "          dataTable['output_type'] = 'display_data';\n",
              "          await google.colab.output.renderOutput(dataTable, element);\n",
              "          const docLink = document.createElement('div');\n",
              "          docLink.innerHTML = docLinkHtml;\n",
              "          element.appendChild(docLink);\n",
              "        }\n",
              "      </script>\n",
              "    </div>\n",
              "  </div>\n",
              "  "
            ]
          },
          "metadata": {},
          "execution_count": 2
        }
      ],
      "source": [
        "df = pd.read_csv('input.csv', names=['date','name', 'email','phone'])\n",
        "df"
      ]
    },
    {
      "cell_type": "markdown",
      "source": [
        "## Transform Data"
      ],
      "metadata": {
        "id": "rEkcT_ogPsLv"
      }
    },
    {
      "cell_type": "markdown",
      "source": [
        "split date to day month year"
      ],
      "metadata": {
        "id": "vYuxf_tljQpX"
      }
    },
    {
      "cell_type": "code",
      "source": [
        "# df['day'] = df['date'].str.split('/').apply(lambda x: x[0].strip())\n",
        "# df['month'] = df['date'].str.split('/').apply(lambda x: x[1].strip())\n",
        "# df['year'] = df['date'].str.split('/').apply(lambda x: int(x[2].strip()) - 543)\n",
        "\n",
        "df[['day', 'month', 'year']] = df['date'].str.split('/', expand=True)\n",
        "df['day'] = df['day'].str.strip().str.zfill(2)\n",
        "df['month'] = df['month'].str.strip().str.zfill(2)\n",
        "df['year'] = df['year'].str.strip().astype(int) - 543"
      ],
      "metadata": {
        "id": "wZldxbCPZWmE"
      },
      "execution_count": 3,
      "outputs": []
    },
    {
      "cell_type": "markdown",
      "source": [
        "create iso date"
      ],
      "metadata": {
        "id": "AxuOIi2cl0tb"
      }
    },
    {
      "cell_type": "code",
      "source": [
        "df['format_date'] = df['year'].astype(str) + '-' + df['month'] + '-' + df['day']"
      ],
      "metadata": {
        "id": "gbCQheSMl1or"
      },
      "execution_count": 4,
      "outputs": []
    },
    {
      "cell_type": "markdown",
      "source": [
        "split name to first name and last name (assume firstname and lastname is seperate by space)"
      ],
      "metadata": {
        "id": "0gCz7RibkNwI"
      }
    },
    {
      "cell_type": "code",
      "source": [
        "df[['first_name', 'last_name']] = df['name'].str.split(' ', expand=True)"
      ],
      "metadata": {
        "id": "5yBKonIckWB-"
      },
      "execution_count": 5,
      "outputs": []
    },
    {
      "cell_type": "markdown",
      "source": [
        "clean phone number format"
      ],
      "metadata": {
        "id": "mTDNBsj0oWqw"
      }
    },
    {
      "cell_type": "code",
      "source": [
        "df['phone'] = df['phone'].str.replace('[^\\d]+', '', regex=True)"
      ],
      "metadata": {
        "id": "xQiyAS0poZh9"
      },
      "execution_count": 6,
      "outputs": []
    },
    {
      "cell_type": "markdown",
      "source": [
        "Old function did not used."
      ],
      "metadata": {
        "id": "c9JH4AhiQIE9"
      }
    },
    {
      "cell_type": "code",
      "source": [
        "# not faster\n",
        "def check_email(email: str):\n",
        "  regex = re.compile(r'^[a-zA-Z0-9._%+-]+@[a-zA-Z0-9.-]+\\.[a-zA-Z]{2,}$')\n",
        "  if not regex.match(email):\n",
        "    return False\n",
        "  return True"
      ],
      "metadata": {
        "id": "PI_cLP0frsdo"
      },
      "execution_count": 7,
      "outputs": []
    },
    {
      "cell_type": "code",
      "source": [
        "def check_date(date: str):\n",
        "  # assume input in date column is number/number/number\n",
        "  # valid date is correct format of date don't care the input is in the future\n",
        "  # year, month, day =  format_date.split('/')\n",
        "  day, month, year =  date.split('/')\n",
        "  year = int(year.strip()) - 543\n",
        "  month = int(month.strip())\n",
        "  day = int(day.strip())\n",
        "\n",
        "  day_count_for_month = [0, 31, 28, 31, 30, 31, 30, 31, 31, 30, 31, 30, 31]\n",
        "\n",
        "  if year%4==0 and (year%100 != 0 or year%400==0):\n",
        "        day_count_for_month[2] = 29\n",
        "  \n",
        "  if (1 <= month <= 12 and 1 <= day <= day_count_for_month[month]):\n",
        "    return True\n",
        "  return False"
      ],
      "metadata": {
        "id": "0CKixSThxwu5"
      },
      "execution_count": 8,
      "outputs": []
    },
    {
      "cell_type": "markdown",
      "source": [
        "mask valid date column"
      ],
      "metadata": {
        "id": "YgemdRsfsLiE"
      }
    },
    {
      "cell_type": "code",
      "source": [
        "# df['valid date'] = df['date'].apply(check_date)\n",
        "date_series = pd.to_datetime(df['format_date'], errors='coerce')\n",
        "df['is_valid_date'] = ~date_series.isna()"
      ],
      "metadata": {
        "id": "EOc0WNK66xzR"
      },
      "execution_count": 9,
      "outputs": []
    },
    {
      "cell_type": "markdown",
      "source": [
        "mask valid email column"
      ],
      "metadata": {
        "id": "KB6CAXbpsQtm"
      }
    },
    {
      "cell_type": "code",
      "source": [
        "# df['valid email'] = df['email'].apply(check_email) #old solution\n",
        "email_pattern = r'^[a-zA-Z0-9._%+-]+@[a-zA-Z0-9.-]+\\.[a-zA-Z]{2,}$'\n",
        "df['is_valid_email'] = df['email'].str.contains(email_pattern)"
      ],
      "metadata": {
        "id": "htBKWpHfzGAM"
      },
      "execution_count": 10,
      "outputs": []
    },
    {
      "cell_type": "markdown",
      "source": [
        "mask valid phone column"
      ],
      "metadata": {
        "id": "fWBrSC44sSvg"
      }
    },
    {
      "cell_type": "code",
      "source": [
        "df['is_valid_phone'] = (df['phone'].str.len() >= 9) & (df['phone'].str.len() <= 10)"
      ],
      "metadata": {
        "id": "YxPEGeX17jec"
      },
      "execution_count": 11,
      "outputs": []
    },
    {
      "cell_type": "markdown",
      "source": [
        "masking phone number (valid phone number is phone number length 9 or 10)"
      ],
      "metadata": {
        "id": "V_7Rw3MVmZ2B"
      }
    },
    {
      "cell_type": "code",
      "source": [
        "df.loc[df['phone'].str.len() == 9,'phone'] = df['phone'].str.replace(r'^(\\d{3})(\\d{4})(\\d{2})$', r'\\1' + r'x'*4 + r'\\3', regex=True)\n",
        "df.loc[df['phone'].str.len() == 10,'phone'] = df['phone'].str.replace(r'^(\\d{3})(\\d{5})(\\d{2})$', r'\\1' + r'x'*5 + r'\\3', regex=True)"
      ],
      "metadata": {
        "id": "Tq28oN4JmEpC"
      },
      "execution_count": 12,
      "outputs": []
    },
    {
      "cell_type": "markdown",
      "source": [
        "mask email "
      ],
      "metadata": {
        "id": "IJFMB-GPBAaj"
      }
    },
    {
      "cell_type": "markdown",
      "source": [
        "option 1: dynamic *"
      ],
      "metadata": {
        "id": "FkUvFAlyFQS4"
      }
    },
    {
      "cell_type": "code",
      "source": [
        "# df[['username', 'domain']] = df['email'].str.split('@', expand=True)\n",
        "# df.fillna(\"\",inplace=True)\n",
        "# len_user_name = (df['username'].str.len()-2).to_numpy()\n",
        "# star = np.array(['*' for e in len_user_name])\n",
        "# mask_part = np.char.multiply(star, len_user_name)\n",
        "# df['email'] = df['username'].str.slice(start=0, stop=1) + mask_part + df['username'].str.slice(-1) + '@' + df['domain']"
      ],
      "metadata": {
        "id": "fahhMK9vAiLw"
      },
      "execution_count": 13,
      "outputs": []
    },
    {
      "cell_type": "markdown",
      "source": [
        "option 2: fix *"
      ],
      "metadata": {
        "id": "DWuBewqmGuUw"
      }
    },
    {
      "cell_type": "code",
      "source": [
        "df['email'] = df['email'].replace(r'(.{1}).*(.{1}@.+\\..+)', r'\\1****\\2', regex=True)"
      ],
      "metadata": {
        "id": "lHjBHQMiGtuq"
      },
      "execution_count": 14,
      "outputs": []
    },
    {
      "cell_type": "markdown",
      "source": [
        "drop unused column"
      ],
      "metadata": {
        "id": "MzJPHXhPLJx5"
      }
    },
    {
      "cell_type": "code",
      "source": [
        "df.drop(['name','date','day','month','year'], inplace=True, axis=1)"
      ],
      "metadata": {
        "id": "dhTuA27tLLP3"
      },
      "execution_count": 15,
      "outputs": []
    },
    {
      "cell_type": "markdown",
      "source": [
        "split to valid and invalid df and drop unused column"
      ],
      "metadata": {
        "id": "FoP7uXiBLB6g"
      }
    },
    {
      "cell_type": "code",
      "source": [
        "valid_rows = df[df['is_valid_date'] & df['is_valid_email'] & df['is_valid_phone']]\n",
        "valid_df = valid_rows.copy()\n",
        "valid_df.drop(['is_valid_date','is_valid_email','is_valid_phone'], axis=1, inplace=True)"
      ],
      "metadata": {
        "id": "L0aroR711K9u"
      },
      "execution_count": 16,
      "outputs": []
    },
    {
      "cell_type": "code",
      "source": [
        "invalid_rows = df[~(df['is_valid_date'] & df['is_valid_email'] & df['is_valid_phone'])]\n",
        "invalid_df = invalid_rows.copy()\n",
        "invalid_df.drop(['is_valid_date','is_valid_email','is_valid_phone'], axis=1, inplace=True)"
      ],
      "metadata": {
        "id": "BDdVKYD0EFG5"
      },
      "execution_count": 17,
      "outputs": []
    },
    {
      "cell_type": "code",
      "source": [
        "invalid_df"
      ],
      "metadata": {
        "colab": {
          "base_uri": "https://localhost:8080/",
          "height": 394
        },
        "id": "-ECABKfKEQKt",
        "outputId": "c7afcc7c-2f77-45e9-d1a9-ab8d0babe193"
      },
      "execution_count": 18,
      "outputs": [
        {
          "output_type": "execute_result",
          "data": {
            "text/plain": [
              "                  email        phone format_date first_name   last_name\n",
              "0      c****s@gmail.com  09055508888  2023-19-01     ชื่นใจ     สวยสกุล\n",
              "1    l****7@hotmail.com   081xxxxx00  2023-20-04      สมชาย  เด็ดเดี่ยว\n",
              "2      s****i@gmail.com         1112  2023-22-21       สมุย  เด็ดเดี่ยว\n",
              "3      b****8@gmail.com   099xxxxx55  2020-30-02      จอห์น     มองอะไร\n",
              "4      c****s@gmail.com  09055508888  2023-19-01     ชื่นใจ     สวยสกุล\n",
              "6      s****i@gmail.com         1112  2023-12-21       สมุย  เด็ดเดี่ยว\n",
              "8   churn.jai.sasdfasdf      1111111  2023-19-01     ชื่นใจ     สวยสกุล\n",
              "9    l****7@hotmail.com   081xxxxx00  2023-20-04      สมชาย  เด็ดเดี่ยว\n",
              "10     s****i@gmail.com         1112  2023-22-21       สมุย  เด็ดเดี่ยว\n",
              "11     b****8@gmail.com    009xxxx50  2020-30-02      จอห์น     มองอะไร\n",
              "12     b****8@gmail.com    009xxxx50  2020-30-02      จอห์น     มองอะไร"
            ],
            "text/html": [
              "\n",
              "  <div id=\"df-40a68ba1-c9cc-4d77-90e4-c44569a89f35\">\n",
              "    <div class=\"colab-df-container\">\n",
              "      <div>\n",
              "<style scoped>\n",
              "    .dataframe tbody tr th:only-of-type {\n",
              "        vertical-align: middle;\n",
              "    }\n",
              "\n",
              "    .dataframe tbody tr th {\n",
              "        vertical-align: top;\n",
              "    }\n",
              "\n",
              "    .dataframe thead th {\n",
              "        text-align: right;\n",
              "    }\n",
              "</style>\n",
              "<table border=\"1\" class=\"dataframe\">\n",
              "  <thead>\n",
              "    <tr style=\"text-align: right;\">\n",
              "      <th></th>\n",
              "      <th>email</th>\n",
              "      <th>phone</th>\n",
              "      <th>format_date</th>\n",
              "      <th>first_name</th>\n",
              "      <th>last_name</th>\n",
              "    </tr>\n",
              "  </thead>\n",
              "  <tbody>\n",
              "    <tr>\n",
              "      <th>0</th>\n",
              "      <td>c****s@gmail.com</td>\n",
              "      <td>09055508888</td>\n",
              "      <td>2023-19-01</td>\n",
              "      <td>ชื่นใจ</td>\n",
              "      <td>สวยสกุล</td>\n",
              "    </tr>\n",
              "    <tr>\n",
              "      <th>1</th>\n",
              "      <td>l****7@hotmail.com</td>\n",
              "      <td>081xxxxx00</td>\n",
              "      <td>2023-20-04</td>\n",
              "      <td>สมชาย</td>\n",
              "      <td>เด็ดเดี่ยว</td>\n",
              "    </tr>\n",
              "    <tr>\n",
              "      <th>2</th>\n",
              "      <td>s****i@gmail.com</td>\n",
              "      <td>1112</td>\n",
              "      <td>2023-22-21</td>\n",
              "      <td>สมุย</td>\n",
              "      <td>เด็ดเดี่ยว</td>\n",
              "    </tr>\n",
              "    <tr>\n",
              "      <th>3</th>\n",
              "      <td>b****8@gmail.com</td>\n",
              "      <td>099xxxxx55</td>\n",
              "      <td>2020-30-02</td>\n",
              "      <td>จอห์น</td>\n",
              "      <td>มองอะไร</td>\n",
              "    </tr>\n",
              "    <tr>\n",
              "      <th>4</th>\n",
              "      <td>c****s@gmail.com</td>\n",
              "      <td>09055508888</td>\n",
              "      <td>2023-19-01</td>\n",
              "      <td>ชื่นใจ</td>\n",
              "      <td>สวยสกุล</td>\n",
              "    </tr>\n",
              "    <tr>\n",
              "      <th>6</th>\n",
              "      <td>s****i@gmail.com</td>\n",
              "      <td>1112</td>\n",
              "      <td>2023-12-21</td>\n",
              "      <td>สมุย</td>\n",
              "      <td>เด็ดเดี่ยว</td>\n",
              "    </tr>\n",
              "    <tr>\n",
              "      <th>8</th>\n",
              "      <td>churn.jai.sasdfasdf</td>\n",
              "      <td>1111111</td>\n",
              "      <td>2023-19-01</td>\n",
              "      <td>ชื่นใจ</td>\n",
              "      <td>สวยสกุล</td>\n",
              "    </tr>\n",
              "    <tr>\n",
              "      <th>9</th>\n",
              "      <td>l****7@hotmail.com</td>\n",
              "      <td>081xxxxx00</td>\n",
              "      <td>2023-20-04</td>\n",
              "      <td>สมชาย</td>\n",
              "      <td>เด็ดเดี่ยว</td>\n",
              "    </tr>\n",
              "    <tr>\n",
              "      <th>10</th>\n",
              "      <td>s****i@gmail.com</td>\n",
              "      <td>1112</td>\n",
              "      <td>2023-22-21</td>\n",
              "      <td>สมุย</td>\n",
              "      <td>เด็ดเดี่ยว</td>\n",
              "    </tr>\n",
              "    <tr>\n",
              "      <th>11</th>\n",
              "      <td>b****8@gmail.com</td>\n",
              "      <td>009xxxx50</td>\n",
              "      <td>2020-30-02</td>\n",
              "      <td>จอห์น</td>\n",
              "      <td>มองอะไร</td>\n",
              "    </tr>\n",
              "    <tr>\n",
              "      <th>12</th>\n",
              "      <td>b****8@gmail.com</td>\n",
              "      <td>009xxxx50</td>\n",
              "      <td>2020-30-02</td>\n",
              "      <td>จอห์น</td>\n",
              "      <td>มองอะไร</td>\n",
              "    </tr>\n",
              "  </tbody>\n",
              "</table>\n",
              "</div>\n",
              "      <button class=\"colab-df-convert\" onclick=\"convertToInteractive('df-40a68ba1-c9cc-4d77-90e4-c44569a89f35')\"\n",
              "              title=\"Convert this dataframe to an interactive table.\"\n",
              "              style=\"display:none;\">\n",
              "        \n",
              "  <svg xmlns=\"http://www.w3.org/2000/svg\" height=\"24px\"viewBox=\"0 0 24 24\"\n",
              "       width=\"24px\">\n",
              "    <path d=\"M0 0h24v24H0V0z\" fill=\"none\"/>\n",
              "    <path d=\"M18.56 5.44l.94 2.06.94-2.06 2.06-.94-2.06-.94-.94-2.06-.94 2.06-2.06.94zm-11 1L8.5 8.5l.94-2.06 2.06-.94-2.06-.94L8.5 2.5l-.94 2.06-2.06.94zm10 10l.94 2.06.94-2.06 2.06-.94-2.06-.94-.94-2.06-.94 2.06-2.06.94z\"/><path d=\"M17.41 7.96l-1.37-1.37c-.4-.4-.92-.59-1.43-.59-.52 0-1.04.2-1.43.59L10.3 9.45l-7.72 7.72c-.78.78-.78 2.05 0 2.83L4 21.41c.39.39.9.59 1.41.59.51 0 1.02-.2 1.41-.59l7.78-7.78 2.81-2.81c.8-.78.8-2.07 0-2.86zM5.41 20L4 18.59l7.72-7.72 1.47 1.35L5.41 20z\"/>\n",
              "  </svg>\n",
              "      </button>\n",
              "      \n",
              "  <style>\n",
              "    .colab-df-container {\n",
              "      display:flex;\n",
              "      flex-wrap:wrap;\n",
              "      gap: 12px;\n",
              "    }\n",
              "\n",
              "    .colab-df-convert {\n",
              "      background-color: #E8F0FE;\n",
              "      border: none;\n",
              "      border-radius: 50%;\n",
              "      cursor: pointer;\n",
              "      display: none;\n",
              "      fill: #1967D2;\n",
              "      height: 32px;\n",
              "      padding: 0 0 0 0;\n",
              "      width: 32px;\n",
              "    }\n",
              "\n",
              "    .colab-df-convert:hover {\n",
              "      background-color: #E2EBFA;\n",
              "      box-shadow: 0px 1px 2px rgba(60, 64, 67, 0.3), 0px 1px 3px 1px rgba(60, 64, 67, 0.15);\n",
              "      fill: #174EA6;\n",
              "    }\n",
              "\n",
              "    [theme=dark] .colab-df-convert {\n",
              "      background-color: #3B4455;\n",
              "      fill: #D2E3FC;\n",
              "    }\n",
              "\n",
              "    [theme=dark] .colab-df-convert:hover {\n",
              "      background-color: #434B5C;\n",
              "      box-shadow: 0px 1px 3px 1px rgba(0, 0, 0, 0.15);\n",
              "      filter: drop-shadow(0px 1px 2px rgba(0, 0, 0, 0.3));\n",
              "      fill: #FFFFFF;\n",
              "    }\n",
              "  </style>\n",
              "\n",
              "      <script>\n",
              "        const buttonEl =\n",
              "          document.querySelector('#df-40a68ba1-c9cc-4d77-90e4-c44569a89f35 button.colab-df-convert');\n",
              "        buttonEl.style.display =\n",
              "          google.colab.kernel.accessAllowed ? 'block' : 'none';\n",
              "\n",
              "        async function convertToInteractive(key) {\n",
              "          const element = document.querySelector('#df-40a68ba1-c9cc-4d77-90e4-c44569a89f35');\n",
              "          const dataTable =\n",
              "            await google.colab.kernel.invokeFunction('convertToInteractive',\n",
              "                                                     [key], {});\n",
              "          if (!dataTable) return;\n",
              "\n",
              "          const docLinkHtml = 'Like what you see? Visit the ' +\n",
              "            '<a target=\"_blank\" href=https://colab.research.google.com/notebooks/data_table.ipynb>data table notebook</a>'\n",
              "            + ' to learn more about interactive tables.';\n",
              "          element.innerHTML = '';\n",
              "          dataTable['output_type'] = 'display_data';\n",
              "          await google.colab.output.renderOutput(dataTable, element);\n",
              "          const docLink = document.createElement('div');\n",
              "          docLink.innerHTML = docLinkHtml;\n",
              "          element.appendChild(docLink);\n",
              "        }\n",
              "      </script>\n",
              "    </div>\n",
              "  </div>\n",
              "  "
            ]
          },
          "metadata": {},
          "execution_count": 18
        }
      ]
    },
    {
      "cell_type": "code",
      "source": [
        "valid_df"
      ],
      "metadata": {
        "colab": {
          "base_uri": "https://localhost:8080/",
          "height": 143
        },
        "id": "QDY_Gee8H2pm",
        "outputId": "8f7c17a4-5331-4157-a6eb-4a6a19e6a665"
      },
      "execution_count": 19,
      "outputs": [
        {
          "output_type": "execute_result",
          "data": {
            "text/plain": [
              "                 email       phone format_date first_name   last_name\n",
              "5   l****7@hotmail.com  081xxxxx00  2023-05-04      สมชาย  เด็ดเดี่ยว\n",
              "7     b****8@gmail.com  099xxxxx55  2020-10-02      จอห์น     มองอะไร\n",
              "13    b****f@gmail.com  089xxxxx22  2030-12-01      จอห์น     มองอะไร"
            ],
            "text/html": [
              "\n",
              "  <div id=\"df-88347e5d-d6f2-4405-b54c-af16998b2663\">\n",
              "    <div class=\"colab-df-container\">\n",
              "      <div>\n",
              "<style scoped>\n",
              "    .dataframe tbody tr th:only-of-type {\n",
              "        vertical-align: middle;\n",
              "    }\n",
              "\n",
              "    .dataframe tbody tr th {\n",
              "        vertical-align: top;\n",
              "    }\n",
              "\n",
              "    .dataframe thead th {\n",
              "        text-align: right;\n",
              "    }\n",
              "</style>\n",
              "<table border=\"1\" class=\"dataframe\">\n",
              "  <thead>\n",
              "    <tr style=\"text-align: right;\">\n",
              "      <th></th>\n",
              "      <th>email</th>\n",
              "      <th>phone</th>\n",
              "      <th>format_date</th>\n",
              "      <th>first_name</th>\n",
              "      <th>last_name</th>\n",
              "    </tr>\n",
              "  </thead>\n",
              "  <tbody>\n",
              "    <tr>\n",
              "      <th>5</th>\n",
              "      <td>l****7@hotmail.com</td>\n",
              "      <td>081xxxxx00</td>\n",
              "      <td>2023-05-04</td>\n",
              "      <td>สมชาย</td>\n",
              "      <td>เด็ดเดี่ยว</td>\n",
              "    </tr>\n",
              "    <tr>\n",
              "      <th>7</th>\n",
              "      <td>b****8@gmail.com</td>\n",
              "      <td>099xxxxx55</td>\n",
              "      <td>2020-10-02</td>\n",
              "      <td>จอห์น</td>\n",
              "      <td>มองอะไร</td>\n",
              "    </tr>\n",
              "    <tr>\n",
              "      <th>13</th>\n",
              "      <td>b****f@gmail.com</td>\n",
              "      <td>089xxxxx22</td>\n",
              "      <td>2030-12-01</td>\n",
              "      <td>จอห์น</td>\n",
              "      <td>มองอะไร</td>\n",
              "    </tr>\n",
              "  </tbody>\n",
              "</table>\n",
              "</div>\n",
              "      <button class=\"colab-df-convert\" onclick=\"convertToInteractive('df-88347e5d-d6f2-4405-b54c-af16998b2663')\"\n",
              "              title=\"Convert this dataframe to an interactive table.\"\n",
              "              style=\"display:none;\">\n",
              "        \n",
              "  <svg xmlns=\"http://www.w3.org/2000/svg\" height=\"24px\"viewBox=\"0 0 24 24\"\n",
              "       width=\"24px\">\n",
              "    <path d=\"M0 0h24v24H0V0z\" fill=\"none\"/>\n",
              "    <path d=\"M18.56 5.44l.94 2.06.94-2.06 2.06-.94-2.06-.94-.94-2.06-.94 2.06-2.06.94zm-11 1L8.5 8.5l.94-2.06 2.06-.94-2.06-.94L8.5 2.5l-.94 2.06-2.06.94zm10 10l.94 2.06.94-2.06 2.06-.94-2.06-.94-.94-2.06-.94 2.06-2.06.94z\"/><path d=\"M17.41 7.96l-1.37-1.37c-.4-.4-.92-.59-1.43-.59-.52 0-1.04.2-1.43.59L10.3 9.45l-7.72 7.72c-.78.78-.78 2.05 0 2.83L4 21.41c.39.39.9.59 1.41.59.51 0 1.02-.2 1.41-.59l7.78-7.78 2.81-2.81c.8-.78.8-2.07 0-2.86zM5.41 20L4 18.59l7.72-7.72 1.47 1.35L5.41 20z\"/>\n",
              "  </svg>\n",
              "      </button>\n",
              "      \n",
              "  <style>\n",
              "    .colab-df-container {\n",
              "      display:flex;\n",
              "      flex-wrap:wrap;\n",
              "      gap: 12px;\n",
              "    }\n",
              "\n",
              "    .colab-df-convert {\n",
              "      background-color: #E8F0FE;\n",
              "      border: none;\n",
              "      border-radius: 50%;\n",
              "      cursor: pointer;\n",
              "      display: none;\n",
              "      fill: #1967D2;\n",
              "      height: 32px;\n",
              "      padding: 0 0 0 0;\n",
              "      width: 32px;\n",
              "    }\n",
              "\n",
              "    .colab-df-convert:hover {\n",
              "      background-color: #E2EBFA;\n",
              "      box-shadow: 0px 1px 2px rgba(60, 64, 67, 0.3), 0px 1px 3px 1px rgba(60, 64, 67, 0.15);\n",
              "      fill: #174EA6;\n",
              "    }\n",
              "\n",
              "    [theme=dark] .colab-df-convert {\n",
              "      background-color: #3B4455;\n",
              "      fill: #D2E3FC;\n",
              "    }\n",
              "\n",
              "    [theme=dark] .colab-df-convert:hover {\n",
              "      background-color: #434B5C;\n",
              "      box-shadow: 0px 1px 3px 1px rgba(0, 0, 0, 0.15);\n",
              "      filter: drop-shadow(0px 1px 2px rgba(0, 0, 0, 0.3));\n",
              "      fill: #FFFFFF;\n",
              "    }\n",
              "  </style>\n",
              "\n",
              "      <script>\n",
              "        const buttonEl =\n",
              "          document.querySelector('#df-88347e5d-d6f2-4405-b54c-af16998b2663 button.colab-df-convert');\n",
              "        buttonEl.style.display =\n",
              "          google.colab.kernel.accessAllowed ? 'block' : 'none';\n",
              "\n",
              "        async function convertToInteractive(key) {\n",
              "          const element = document.querySelector('#df-88347e5d-d6f2-4405-b54c-af16998b2663');\n",
              "          const dataTable =\n",
              "            await google.colab.kernel.invokeFunction('convertToInteractive',\n",
              "                                                     [key], {});\n",
              "          if (!dataTable) return;\n",
              "\n",
              "          const docLinkHtml = 'Like what you see? Visit the ' +\n",
              "            '<a target=\"_blank\" href=https://colab.research.google.com/notebooks/data_table.ipynb>data table notebook</a>'\n",
              "            + ' to learn more about interactive tables.';\n",
              "          element.innerHTML = '';\n",
              "          dataTable['output_type'] = 'display_data';\n",
              "          await google.colab.output.renderOutput(dataTable, element);\n",
              "          const docLink = document.createElement('div');\n",
              "          docLink.innerHTML = docLinkHtml;\n",
              "          element.appendChild(docLink);\n",
              "        }\n",
              "      </script>\n",
              "    </div>\n",
              "  </div>\n",
              "  "
            ]
          },
          "metadata": {},
          "execution_count": 19
        }
      ]
    },
    {
      "cell_type": "markdown",
      "source": [
        "## save data to csv"
      ],
      "metadata": {
        "id": "B9s-ztboN1dn"
      }
    },
    {
      "cell_type": "code",
      "source": [
        "valid_df.to_csv('cleaned_data.csv', columns = ['format_date', 'first_name', 'last_name', 'email', 'phone'], index=False)"
      ],
      "metadata": {
        "id": "nC74hDF_N09w"
      },
      "execution_count": 20,
      "outputs": []
    },
    {
      "cell_type": "code",
      "source": [
        "invalid_df.to_csv('invalid_data.csv', columns = ['format_date', 'first_name', 'last_name', 'email', 'phone'], index=False)"
      ],
      "metadata": {
        "id": "obOhqKYbO6um"
      },
      "execution_count": 21,
      "outputs": []
    }
  ]
}